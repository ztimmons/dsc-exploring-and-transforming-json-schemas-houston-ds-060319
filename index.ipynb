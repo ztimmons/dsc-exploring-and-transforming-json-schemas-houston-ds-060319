{
 "cells": [
  {
   "cell_type": "markdown",
   "metadata": {},
   "source": [
    "# Exploring and Transforming JSON Schemas"
   ]
  },
  {
   "cell_type": "markdown",
   "metadata": {},
   "source": [
    "## Introduction\n",
    "\n",
    "In this lesson, you'll formalize your knowledge for how to explore a JSON file whose structure and schema is unknown to you. This often happens in practice when you are handed a file or stumble upon one with little documentation."
   ]
  },
  {
   "cell_type": "markdown",
   "metadata": {},
   "source": [
    "## Objectives\n",
    "You will be able to:\n",
    "* Explore unknown JSON schemas\n",
    "* Access and manipulate data inside a JSON file\n",
    "* Convert JSON to alternative data formats"
   ]
  },
  {
   "cell_type": "markdown",
   "metadata": {},
   "source": [
    "## Loading the JSON file\n",
    "\n",
    "As before, you'll begin by importing the json package, opening a file with python's built in function, and then loading that data in."
   ]
  },
  {
   "cell_type": "code",
   "execution_count": 4,
   "metadata": {},
   "outputs": [],
   "source": [
    "import json"
   ]
  },
  {
   "cell_type": "code",
   "execution_count": 5,
   "metadata": {},
   "outputs": [],
   "source": [
    "f = open('output.json')\n",
    "data = json.load(f)"
   ]
  },
  {
   "cell_type": "markdown",
   "metadata": {},
   "source": [
    "## Exploring JSON Schemas  \n",
    "\n",
    "Recall that JSON files have a nested structure. The most granular level of raw data will be individual numbers (float/int) and strings. These in turn will be stored in the equivalent of python lists and dictionaries. Because these can be combined, you'll start exploring by checking the type of our root object, and start mapping out the hierarchy of the json file."
   ]
  },
  {
   "cell_type": "code",
   "execution_count": 6,
   "metadata": {},
   "outputs": [
    {
     "data": {
      "text/plain": [
       "dict"
      ]
     },
     "execution_count": 6,
     "metadata": {},
     "output_type": "execute_result"
    }
   ],
   "source": [
    "type(data)"
   ]
  },
  {
   "cell_type": "markdown",
   "metadata": {},
   "source": [
    "As you can see, in this case, the first level of the hierarchy is a dictionary. Let's explore what keys are within this:"
   ]
  },
  {
   "cell_type": "code",
   "execution_count": 7,
   "metadata": {},
   "outputs": [
    {
     "data": {
      "text/plain": [
       "dict_keys(['albums'])"
      ]
     },
     "execution_count": 7,
     "metadata": {},
     "output_type": "execute_result"
    }
   ],
   "source": [
    "data.keys()"
   ]
  },
  {
   "cell_type": "markdown",
   "metadata": {},
   "source": [
    "In this case, there is only a single key, 'albums', so you'll continue on down the pathway exploring and mapping out the hierarchy. Once again, start by checking the type of this nested data structure."
   ]
  },
  {
   "cell_type": "code",
   "execution_count": 8,
   "metadata": {},
   "outputs": [
    {
     "data": {
      "text/plain": [
       "dict"
      ]
     },
     "execution_count": 8,
     "metadata": {},
     "output_type": "execute_result"
    }
   ],
   "source": [
    "type(data['albums'])"
   ]
  },
  {
   "cell_type": "markdown",
   "metadata": {},
   "source": [
    "Another dictionary! So thus far, you have a dictionary within a dictionary. Once again, investigate what's within this dictionary (JSON calls the equivalent of Python dictionaries Objects.)"
   ]
  },
  {
   "cell_type": "code",
   "execution_count": 9,
   "metadata": {},
   "outputs": [
    {
     "data": {
      "text/plain": [
       "dict_keys(['href', 'items', 'limit', 'next', 'offset', 'previous', 'total'])"
      ]
     },
     "execution_count": 9,
     "metadata": {},
     "output_type": "execute_result"
    }
   ],
   "source": [
    "data['albums'].keys()"
   ]
  },
  {
   "cell_type": "code",
   "execution_count": 10,
   "metadata": {},
   "outputs": [
    {
     "data": {
      "text/plain": [
       "{'href': 'https://api.spotify.com/v1/browse/new-releases?country=SE&offset=0&limit=20',\n",
       " 'items': [{'album_type': 'single',\n",
       "   'artists': [{'external_urls': {'spotify': 'https://open.spotify.com/artist/2RdwBSPQiwcmiDo9kixcl8'},\n",
       "     'href': 'https://api.spotify.com/v1/artists/2RdwBSPQiwcmiDo9kixcl8',\n",
       "     'id': '2RdwBSPQiwcmiDo9kixcl8',\n",
       "     'name': 'Pharrell Williams',\n",
       "     'type': 'artist',\n",
       "     'uri': 'spotify:artist:2RdwBSPQiwcmiDo9kixcl8'}],\n",
       "   'available_markets': ['AD',\n",
       "    'AR',\n",
       "    'AT',\n",
       "    'AU',\n",
       "    'BE',\n",
       "    'BG',\n",
       "    'BO',\n",
       "    'BR',\n",
       "    'CA',\n",
       "    'CH',\n",
       "    'CL',\n",
       "    'CO',\n",
       "    'CR',\n",
       "    'CY',\n",
       "    'CZ',\n",
       "    'DE',\n",
       "    'DK',\n",
       "    'DO',\n",
       "    'EC',\n",
       "    'EE',\n",
       "    'ES',\n",
       "    'FI',\n",
       "    'FR',\n",
       "    'GB',\n",
       "    'GR',\n",
       "    'GT',\n",
       "    'HK',\n",
       "    'HN',\n",
       "    'HU',\n",
       "    'ID',\n",
       "    'IE',\n",
       "    'IS',\n",
       "    'IT',\n",
       "    'JP',\n",
       "    'LI',\n",
       "    'LT',\n",
       "    'LU',\n",
       "    'LV',\n",
       "    'MC',\n",
       "    'MT',\n",
       "    'MX',\n",
       "    'MY',\n",
       "    'NI',\n",
       "    'NL',\n",
       "    'NO',\n",
       "    'NZ',\n",
       "    'PA',\n",
       "    'PE',\n",
       "    'PH',\n",
       "    'PL',\n",
       "    'PT',\n",
       "    'PY',\n",
       "    'SE',\n",
       "    'SG',\n",
       "    'SK',\n",
       "    'SV',\n",
       "    'TR',\n",
       "    'TW',\n",
       "    'US',\n",
       "    'UY'],\n",
       "   'external_urls': {'spotify': 'https://open.spotify.com/album/5ZX4m5aVSmWQ5iHAPQpT71'},\n",
       "   'href': 'https://api.spotify.com/v1/albums/5ZX4m5aVSmWQ5iHAPQpT71',\n",
       "   'id': '5ZX4m5aVSmWQ5iHAPQpT71',\n",
       "   'images': [{'height': 640,\n",
       "     'url': 'https://i.scdn.co/image/e6b635ebe3ef4ba22492f5698a7b5d417f78b88a',\n",
       "     'width': 640},\n",
       "    {'height': 300,\n",
       "     'url': 'https://i.scdn.co/image/92ae5b0fe64870c09004dd2e745a4fb1bf7de39d',\n",
       "     'width': 300},\n",
       "    {'height': 64,\n",
       "     'url': 'https://i.scdn.co/image/8a7ab6fc2c9f678308ba0f694ecd5718dc6bc930',\n",
       "     'width': 64}],\n",
       "   'name': \"Runnin'\",\n",
       "   'type': 'album',\n",
       "   'uri': 'spotify:album:5ZX4m5aVSmWQ5iHAPQpT71'},\n",
       "  {'album_type': 'single',\n",
       "   'artists': [{'external_urls': {'spotify': 'https://open.spotify.com/artist/3TVXtAsR1Inumwj472S9r4'},\n",
       "     'href': 'https://api.spotify.com/v1/artists/3TVXtAsR1Inumwj472S9r4',\n",
       "     'id': '3TVXtAsR1Inumwj472S9r4',\n",
       "     'name': 'Drake',\n",
       "     'type': 'artist',\n",
       "     'uri': 'spotify:artist:3TVXtAsR1Inumwj472S9r4'}],\n",
       "   'available_markets': ['AD',\n",
       "    'AR',\n",
       "    'AT',\n",
       "    'AU',\n",
       "    'BE',\n",
       "    'BG',\n",
       "    'BO',\n",
       "    'BR',\n",
       "    'CH',\n",
       "    'CL',\n",
       "    'CO',\n",
       "    'CR',\n",
       "    'CY',\n",
       "    'CZ',\n",
       "    'DE',\n",
       "    'DK',\n",
       "    'DO',\n",
       "    'EC',\n",
       "    'EE',\n",
       "    'ES',\n",
       "    'FI',\n",
       "    'FR',\n",
       "    'GB',\n",
       "    'GR',\n",
       "    'GT',\n",
       "    'HK',\n",
       "    'HN',\n",
       "    'HU',\n",
       "    'ID',\n",
       "    'IE',\n",
       "    'IS',\n",
       "    'IT',\n",
       "    'JP',\n",
       "    'LI',\n",
       "    'LT',\n",
       "    'LU',\n",
       "    'LV',\n",
       "    'MC',\n",
       "    'MT',\n",
       "    'MY',\n",
       "    'NI',\n",
       "    'NL',\n",
       "    'NO',\n",
       "    'NZ',\n",
       "    'PA',\n",
       "    'PE',\n",
       "    'PH',\n",
       "    'PL',\n",
       "    'PT',\n",
       "    'PY',\n",
       "    'SE',\n",
       "    'SG',\n",
       "    'SK',\n",
       "    'SV',\n",
       "    'TR',\n",
       "    'TW',\n",
       "    'UY'],\n",
       "   'external_urls': {'spotify': 'https://open.spotify.com/album/0geTzdk2InlqIoB16fW9Nd'},\n",
       "   'href': 'https://api.spotify.com/v1/albums/0geTzdk2InlqIoB16fW9Nd',\n",
       "   'id': '0geTzdk2InlqIoB16fW9Nd',\n",
       "   'images': [{'height': 640,\n",
       "     'url': 'https://i.scdn.co/image/d40e9c3d22bde2fbdb2ecc03cccd7a0e77f42e4c',\n",
       "     'width': 640},\n",
       "    {'height': 300,\n",
       "     'url': 'https://i.scdn.co/image/dff06a3375f6d9b32ecb081eb9a60bbafecb5731',\n",
       "     'width': 300},\n",
       "    {'height': 64,\n",
       "     'url': 'https://i.scdn.co/image/808a02bd7fc59b0652c9df9f68675edbffe07a79',\n",
       "     'width': 64}],\n",
       "   'name': 'Sneakin’',\n",
       "   'type': 'album',\n",
       "   'uri': 'spotify:album:0geTzdk2InlqIoB16fW9Nd'}],\n",
       " 'limit': 20,\n",
       " 'next': 'https://api.spotify.com/v1/browse/new-releases?country=SE&offset=20&limit=20',\n",
       " 'offset': 0,\n",
       " 'previous': None,\n",
       " 'total': 500}"
      ]
     },
     "execution_count": 10,
     "metadata": {},
     "output_type": "execute_result"
    }
   ],
   "source": [
    "data[\"albums\"]"
   ]
  },
  {
   "cell_type": "markdown",
   "metadata": {},
   "source": [
    "At this point, things are starting to look something like this: \n",
    "<img src=\"images/json_diagram1.JPG\" width=550>"
   ]
  },
  {
   "cell_type": "markdown",
   "metadata": {},
   "source": [
    "At this point, if you were to continue checking individual data types, you have a lot to go through. To simplify this, you can use a for loop:"
   ]
  },
  {
   "cell_type": "code",
   "execution_count": 11,
   "metadata": {},
   "outputs": [
    {
     "name": "stdout",
     "output_type": "stream",
     "text": [
      "href <class 'str'>\n",
      "items <class 'list'>\n",
      "limit <class 'int'>\n",
      "next <class 'str'>\n",
      "offset <class 'int'>\n",
      "previous <class 'NoneType'>\n",
      "total <class 'int'>\n"
     ]
    }
   ],
   "source": [
    "for z in data['albums'].keys():\n",
    "    print(z, type(data['albums'][z]))"
   ]
  },
  {
   "cell_type": "code",
   "execution_count": 12,
   "metadata": {},
   "outputs": [
    {
     "name": "stdout",
     "output_type": "stream",
     "text": [
      "href <class 'dict'>\n",
      "items <class 'dict'>\n",
      "limit <class 'dict'>\n",
      "next <class 'dict'>\n",
      "offset <class 'dict'>\n",
      "previous <class 'dict'>\n",
      "total <class 'dict'>\n"
     ]
    }
   ],
   "source": [
    "for z in data['albums'].keys():\n",
    "    print(z, type(data['albums'])) #notice how here there is only the original type for albums and not the\n",
    "    #type for each key."
   ]
  },
  {
   "cell_type": "markdown",
   "metadata": {},
   "source": [
    "Adding this to our diagram we now have something like this:\n",
    "<img src=\"images/json_diagram2.JPG\" width=550>"
   ]
  },
  {
   "cell_type": "markdown",
   "metadata": {},
   "source": [
    "Normally, you may not draw out the full diagram as done here, but its a useful picture to have in mind, and in complex schemas, can be useful to map out. At this point, you also probably have a good idea of the general structure of the json file. However, there is still the list of items, which we could investigate further:"
   ]
  },
  {
   "cell_type": "code",
   "execution_count": 13,
   "metadata": {},
   "outputs": [
    {
     "data": {
      "text/plain": [
       "list"
      ]
     },
     "execution_count": 13,
     "metadata": {},
     "output_type": "execute_result"
    }
   ],
   "source": [
    "type(data['albums']['items'])"
   ]
  },
  {
   "cell_type": "code",
   "execution_count": 14,
   "metadata": {},
   "outputs": [
    {
     "name": "stdout",
     "output_type": "stream",
     "text": [
      "dict_keys(['album_type', 'artists', 'available_markets', 'external_urls', 'href', 'id', 'images', 'name', 'type', 'uri'])\n",
      "dict_keys(['album_type', 'artists', 'available_markets', 'external_urls', 'href', 'id', 'images', 'name', 'type', 'uri'])\n"
     ]
    }
   ],
   "source": [
    "data['albums']['items']\n",
    "\n",
    "for item in data['albums']['items']:\n",
    "    print(item.keys())"
   ]
  },
  {
   "cell_type": "code",
   "execution_count": 15,
   "metadata": {},
   "outputs": [
    {
     "data": {
      "text/plain": [
       "2"
      ]
     },
     "execution_count": 15,
     "metadata": {},
     "output_type": "execute_result"
    }
   ],
   "source": [
    "len(data['albums']['items'])"
   ]
  },
  {
   "cell_type": "code",
   "execution_count": 16,
   "metadata": {},
   "outputs": [
    {
     "data": {
      "text/plain": [
       "dict"
      ]
     },
     "execution_count": 16,
     "metadata": {},
     "output_type": "execute_result"
    }
   ],
   "source": [
    "type(data['albums']['items'][0])"
   ]
  },
  {
   "cell_type": "code",
   "execution_count": 17,
   "metadata": {},
   "outputs": [
    {
     "data": {
      "text/plain": [
       "dict_keys(['album_type', 'artists', 'available_markets', 'external_urls', 'href', 'id', 'images', 'name', 'type', 'uri'])"
      ]
     },
     "execution_count": 17,
     "metadata": {},
     "output_type": "execute_result"
    }
   ],
   "source": [
    "data['albums']['items'][0].keys()"
   ]
  },
  {
   "cell_type": "code",
   "execution_count": null,
   "metadata": {},
   "outputs": [],
   "source": [
    "#notice how just doing the keys for data['albums']['items'] doesn't work because its a list. \n",
    "#But the keys works here. Because we are callinga a dictionary within a list"
   ]
  },
  {
   "cell_type": "markdown",
   "metadata": {},
   "source": [
    "## Converting JSON to Alternative Data Formats\n",
    "As you can see, the nested structure continues on: our list of items is only 2 long, but each item is a dictionary with a large number of key value pairs. To add context, this is actually the data that you're probably after from this file: its that data providing details about what albums were recently released. The entirety of the JSON file itself is an example response from the Spotify API (more on that soon). So while the larger JSON provides us with many details about the response itself, our primary interest may simply be the list of dictionaries within data -> albums -> items. Preview this and see if you can transform it into our usual Pandas DataFrame."
   ]
  },
  {
   "cell_type": "code",
   "execution_count": 18,
   "metadata": {},
   "outputs": [],
   "source": [
    "import pandas as pd"
   ]
  },
  {
   "cell_type": "markdown",
   "metadata": {},
   "source": [
    "On first attempt, you might be tempted to pass the whole object to Pandas. Try and think about what you would like the resulting dataframe to look like based on the schema we are mapping out. What would the column names be? What would the rows represent?"
   ]
  },
  {
   "cell_type": "code",
   "execution_count": 19,
   "metadata": {},
   "outputs": [
    {
     "data": {
      "text/html": [
       "<div>\n",
       "<style scoped>\n",
       "    .dataframe tbody tr th:only-of-type {\n",
       "        vertical-align: middle;\n",
       "    }\n",
       "\n",
       "    .dataframe tbody tr th {\n",
       "        vertical-align: top;\n",
       "    }\n",
       "\n",
       "    .dataframe thead th {\n",
       "        text-align: right;\n",
       "    }\n",
       "</style>\n",
       "<table border=\"1\" class=\"dataframe\">\n",
       "  <thead>\n",
       "    <tr style=\"text-align: right;\">\n",
       "      <th></th>\n",
       "      <th>album_type</th>\n",
       "      <th>artists</th>\n",
       "      <th>available_markets</th>\n",
       "      <th>external_urls</th>\n",
       "      <th>href</th>\n",
       "      <th>id</th>\n",
       "      <th>images</th>\n",
       "      <th>name</th>\n",
       "      <th>type</th>\n",
       "      <th>uri</th>\n",
       "    </tr>\n",
       "  </thead>\n",
       "  <tbody>\n",
       "    <tr>\n",
       "      <th>0</th>\n",
       "      <td>single</td>\n",
       "      <td>[{'external_urls': {'spotify': 'https://open.s...</td>\n",
       "      <td>[AD, AR, AT, AU, BE, BG, BO, BR, CA, CH, CL, C...</td>\n",
       "      <td>{'spotify': 'https://open.spotify.com/album/5Z...</td>\n",
       "      <td>https://api.spotify.com/v1/albums/5ZX4m5aVSmWQ...</td>\n",
       "      <td>5ZX4m5aVSmWQ5iHAPQpT71</td>\n",
       "      <td>[{'height': 640, 'url': 'https://i.scdn.co/ima...</td>\n",
       "      <td>Runnin'</td>\n",
       "      <td>album</td>\n",
       "      <td>spotify:album:5ZX4m5aVSmWQ5iHAPQpT71</td>\n",
       "    </tr>\n",
       "    <tr>\n",
       "      <th>1</th>\n",
       "      <td>single</td>\n",
       "      <td>[{'external_urls': {'spotify': 'https://open.s...</td>\n",
       "      <td>[AD, AR, AT, AU, BE, BG, BO, BR, CH, CL, CO, C...</td>\n",
       "      <td>{'spotify': 'https://open.spotify.com/album/0g...</td>\n",
       "      <td>https://api.spotify.com/v1/albums/0geTzdk2Inlq...</td>\n",
       "      <td>0geTzdk2InlqIoB16fW9Nd</td>\n",
       "      <td>[{'height': 640, 'url': 'https://i.scdn.co/ima...</td>\n",
       "      <td>Sneakin’</td>\n",
       "      <td>album</td>\n",
       "      <td>spotify:album:0geTzdk2InlqIoB16fW9Nd</td>\n",
       "    </tr>\n",
       "  </tbody>\n",
       "</table>\n",
       "</div>"
      ],
      "text/plain": [
       "  album_type                                            artists  \\\n",
       "0     single  [{'external_urls': {'spotify': 'https://open.s...   \n",
       "1     single  [{'external_urls': {'spotify': 'https://open.s...   \n",
       "\n",
       "                                   available_markets  \\\n",
       "0  [AD, AR, AT, AU, BE, BG, BO, BR, CA, CH, CL, C...   \n",
       "1  [AD, AR, AT, AU, BE, BG, BO, BR, CH, CL, CO, C...   \n",
       "\n",
       "                                       external_urls  \\\n",
       "0  {'spotify': 'https://open.spotify.com/album/5Z...   \n",
       "1  {'spotify': 'https://open.spotify.com/album/0g...   \n",
       "\n",
       "                                                href                      id  \\\n",
       "0  https://api.spotify.com/v1/albums/5ZX4m5aVSmWQ...  5ZX4m5aVSmWQ5iHAPQpT71   \n",
       "1  https://api.spotify.com/v1/albums/0geTzdk2Inlq...  0geTzdk2InlqIoB16fW9Nd   \n",
       "\n",
       "                                              images      name   type  \\\n",
       "0  [{'height': 640, 'url': 'https://i.scdn.co/ima...   Runnin'  album   \n",
       "1  [{'height': 640, 'url': 'https://i.scdn.co/ima...  Sneakin’  album   \n",
       "\n",
       "                                    uri  \n",
       "0  spotify:album:5ZX4m5aVSmWQ5iHAPQpT71  \n",
       "1  spotify:album:0geTzdk2InlqIoB16fW9Nd  "
      ]
     },
     "execution_count": 19,
     "metadata": {},
     "output_type": "execute_result"
    }
   ],
   "source": [
    "df = pd.DataFrame(data['albums']['items'])\n",
    "df.head()"
   ]
  },
  {
   "cell_type": "markdown",
   "metadata": {},
   "source": [
    "Not bad, although you can see some of our cells still have nested data within them. The artists column in particular might be nice to break apart. You could do this from the original json, but at this point, let's work with our DataFrame. Preview an entry."
   ]
  },
  {
   "cell_type": "code",
   "execution_count": 13,
   "metadata": {},
   "outputs": [
    {
     "data": {
      "text/plain": [
       "[{'external_urls': {'spotify': 'https://open.spotify.com/artist/2RdwBSPQiwcmiDo9kixcl8'},\n",
       "  'href': 'https://api.spotify.com/v1/artists/2RdwBSPQiwcmiDo9kixcl8',\n",
       "  'id': '2RdwBSPQiwcmiDo9kixcl8',\n",
       "  'name': 'Pharrell Williams',\n",
       "  'type': 'artist',\n",
       "  'uri': 'spotify:artist:2RdwBSPQiwcmiDo9kixcl8'}]"
      ]
     },
     "execution_count": 13,
     "metadata": {},
     "output_type": "execute_result"
    }
   ],
   "source": [
    "df.artists.iloc[0]"
   ]
  },
  {
   "cell_type": "code",
   "execution_count": 22,
   "metadata": {},
   "outputs": [
    {
     "data": {
      "text/plain": [
       "[{'external_urls': {'spotify': 'https://open.spotify.com/artist/2RdwBSPQiwcmiDo9kixcl8'},\n",
       "  'href': 'https://api.spotify.com/v1/artists/2RdwBSPQiwcmiDo9kixcl8',\n",
       "  'id': '2RdwBSPQiwcmiDo9kixcl8',\n",
       "  'name': 'Pharrell Williams',\n",
       "  'type': 'artist',\n",
       "  'uri': 'spotify:artist:2RdwBSPQiwcmiDo9kixcl8'}]"
      ]
     },
     "execution_count": 22,
     "metadata": {},
     "output_type": "execute_result"
    }
   ],
   "source": [
    "df.artists[0]"
   ]
  },
  {
   "cell_type": "markdown",
   "metadata": {},
   "source": [
    "As you can see, you have a list of dictionaries, in this case with only one entry as theirs only one artist. You can imagine wanting to transform this for an artist1, artist2,...columns. This will be a great exercise in the upcoming lab to practice your Pandas skills and lambda functions!"
   ]
  },
  {
   "cell_type": "markdown",
   "metadata": {},
   "source": [
    "## Summary\n",
    "\n",
    "JSON files often have a deep nested structure that can require initial investigation into the schema hierarchy in order to become familiar with how data is stored. Once done, it is important to identify what data your are looking to extract and then develop a strategy to transform it into your standard workflow (which generally will be dependent on Pandas DataFrames or NumPy arrays)."
   ]
  }
 ],
 "metadata": {
  "kernelspec": {
   "display_name": "Python 3",
   "language": "python",
   "name": "python3"
  },
  "language_info": {
   "codemirror_mode": {
    "name": "ipython",
    "version": 3
   },
   "file_extension": ".py",
   "mimetype": "text/x-python",
   "name": "python",
   "nbconvert_exporter": "python",
   "pygments_lexer": "ipython3",
   "version": "3.6.6"
  }
 },
 "nbformat": 4,
 "nbformat_minor": 2
}
